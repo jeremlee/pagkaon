{
 "cells": [
  {
   "cell_type": "code",
   "execution_count": 6,
   "metadata": {},
   "outputs": [],
   "source": [
    "from tensorflow.keras.applications import InceptionResNetV2\n",
    "from tensorflow.keras.models import Model\n",
    "from tensorflow.keras.layers import Dense, GlobalAveragePooling2D\n",
    "from tensorflow.keras.preprocessing.image import load_img\n",
    "import tensorflow as tf\n",
    "from datasets import load_dataset\n",
    "import numpy as np\n",
    "import seaborn as sns\n",
    "import pandas as pd\n"
   ]
  },
  {
   "cell_type": "code",
   "execution_count": 7,
   "metadata": {},
   "outputs": [
    {
     "data": {
      "application/vnd.jupyter.widget-view+json": {
       "model_id": "ceaa20f769c946649afa42e67ad0f970",
       "version_major": 2,
       "version_minor": 0
      },
      "text/plain": [
       "Resolving data files:   0%|          | 0/1052 [00:00<?, ?it/s]"
      ]
     },
     "metadata": {},
     "output_type": "display_data"
    },
    {
     "data": {
      "application/vnd.jupyter.widget-view+json": {
       "model_id": "6cbafda3ba71417a870a9529e423e892",
       "version_major": 2,
       "version_minor": 0
      },
      "text/plain": [
       "Resolving data files:   0%|          | 0/352 [00:00<?, ?it/s]"
      ]
     },
     "metadata": {},
     "output_type": "display_data"
    },
    {
     "name": "stderr",
     "output_type": "stream",
     "text": [
      "Using the latest cached version of the dataset since Kaludi/data-food-classification couldn't be found on the Hugging Face Hub\n",
      "Found the latest cached dataset configuration 'default' at C:\\Users\\Lee\\.cache\\huggingface\\datasets\\Kaludi___data-food-classification\\default\\0.0.0\\f3f61a87e0d4fe50b50dcbdc937b015aecda04a6 (last modified on Fri Mar 21 15:31:15 2025).\n"
     ]
    }
   ],
   "source": [
    "dataset = load_dataset(\"Kaludi/data-food-classification\")\n",
    "class_dict = {\n",
    "    0: 'apple_pie',\n",
    "    1: 'falafel',\n",
    "    2: 'french_toast',\n",
    "    3: 'ice_cream',\n",
    "    4: 'ramen',\n",
    "    5: 'sushi',\n",
    "    6: 'tiramisu'\n",
    "}\n",
    "\n"
   ]
  },
  {
   "cell_type": "code",
   "execution_count": null,
   "metadata": {},
   "outputs": [
    {
     "data": {
      "application/vnd.jupyter.widget-view+json": {
       "model_id": "a1a8625be6db4db0a203000e234ee667",
       "version_major": 2,
       "version_minor": 0
      },
      "text/plain": [
       "Map:   0%|          | 0/1050 [00:00<?, ? examples/s]"
      ]
     },
     "metadata": {},
     "output_type": "display_data"
    },
    {
     "data": {
      "application/vnd.jupyter.widget-view+json": {
       "model_id": "99ce134e31fa4d16b6dfe43339d354e5",
       "version_major": 2,
       "version_minor": 0
      },
      "text/plain": [
       "Map:   0%|          | 0/350 [00:00<?, ? examples/s]"
      ]
     },
     "metadata": {},
     "output_type": "display_data"
    },
    {
     "name": "stderr",
     "output_type": "stream",
     "text": [
      "d:\\Documents\\A_College\\3rd year\\2nd sem\\CS346\\pagkaon\\myenv\\Lib\\site-packages\\PIL\\TiffImagePlugin.py:949: UserWarning: Truncated File Read\n",
      "  warnings.warn(str(msg))\n"
     ]
    }
   ],
   "source": [
    "def preprocess_image(example):\n",
    "    from tensorflow.keras.preprocessing.image import img_to_array\n",
    "    from tensorflow.keras.applications.inception_resnet_v2 import preprocess_input \n",
    "    image = example['image'].resize((299,299))\n",
    "    image = img_to_array(image)\n",
    "    image = preprocess_input(image)\n",
    "    return {\"image\": image, \"label\": example['label']}\n",
    "\n",
    "dataset = dataset.map(preprocess_image, num_proc=1)\n",
    "batch_size = 16\n",
    "train_dataset = tf.data.Dataset.from_tensor_slices((np.stack(dataset['train']['image']), np.array(dataset['train']['label']))).batch(batch_size).shuffle(1000).prefetch(tf.data.AUTOTUNE)\n",
    "validation_dataset = tf.data.Dataset.from_tensor_slices((np.stack(dataset['validation']['image']), np.array(dataset['validation']['label']))).batch(batch_size).prefetch(tf.data.AUTOTUNE)\n",
    "\n"
   ]
  },
  {
   "cell_type": "code",
   "execution_count": 31,
   "metadata": {},
   "outputs": [
    {
     "name": "stdout",
     "output_type": "stream",
     "text": [
      "Epoch 1/30\n",
      "\u001b[1m66/66\u001b[0m \u001b[32m━━━━━━━━━━━━━━━━━━━━\u001b[0m\u001b[37m\u001b[0m \u001b[1m162s\u001b[0m 2s/step - accuracy: 0.2496 - loss: 2.5170 - val_accuracy: 0.3114 - val_loss: 1.6167\n",
      "Epoch 2/30\n",
      "\u001b[1m66/66\u001b[0m \u001b[32m━━━━━━━━━━━━━━━━━━━━\u001b[0m\u001b[37m\u001b[0m \u001b[1m141s\u001b[0m 2s/step - accuracy: 0.3965 - loss: 1.6256 - val_accuracy: 0.5886 - val_loss: 1.1830\n",
      "Epoch 3/30\n",
      "\u001b[1m66/66\u001b[0m \u001b[32m━━━━━━━━━━━━━━━━━━━━\u001b[0m\u001b[37m\u001b[0m \u001b[1m141s\u001b[0m 2s/step - accuracy: 0.5071 - loss: 1.3087 - val_accuracy: 0.6600 - val_loss: 1.0101\n",
      "Epoch 4/30\n",
      "\u001b[1m66/66\u001b[0m \u001b[32m━━━━━━━━━━━━━━━━━━━━\u001b[0m\u001b[37m\u001b[0m \u001b[1m140s\u001b[0m 2s/step - accuracy: 0.5616 - loss: 1.1733 - val_accuracy: 0.6857 - val_loss: 1.0220\n",
      "Epoch 5/30\n",
      "\u001b[1m66/66\u001b[0m \u001b[32m━━━━━━━━━━━━━━━━━━━━\u001b[0m\u001b[37m\u001b[0m \u001b[1m141s\u001b[0m 2s/step - accuracy: 0.6045 - loss: 1.1053 - val_accuracy: 0.6914 - val_loss: 0.9001\n",
      "Epoch 6/30\n",
      "\u001b[1m66/66\u001b[0m \u001b[32m━━━━━━━━━━━━━━━━━━━━\u001b[0m\u001b[37m\u001b[0m \u001b[1m140s\u001b[0m 2s/step - accuracy: 0.6087 - loss: 1.0528 - val_accuracy: 0.7686 - val_loss: 0.7542\n",
      "Epoch 7/30\n",
      "\u001b[1m66/66\u001b[0m \u001b[32m━━━━━━━━━━━━━━━━━━━━\u001b[0m\u001b[37m\u001b[0m \u001b[1m141s\u001b[0m 2s/step - accuracy: 0.6725 - loss: 0.9223 - val_accuracy: 0.7771 - val_loss: 0.6962\n",
      "Epoch 8/30\n",
      "\u001b[1m66/66\u001b[0m \u001b[32m━━━━━━━━━━━━━━━━━━━━\u001b[0m\u001b[37m\u001b[0m \u001b[1m141s\u001b[0m 2s/step - accuracy: 0.6342 - loss: 0.9600 - val_accuracy: 0.7857 - val_loss: 0.6677\n",
      "Epoch 9/30\n",
      "\u001b[1m66/66\u001b[0m \u001b[32m━━━━━━━━━━━━━━━━━━━━\u001b[0m\u001b[37m\u001b[0m \u001b[1m141s\u001b[0m 2s/step - accuracy: 0.7500 - loss: 0.7242 - val_accuracy: 0.7914 - val_loss: 0.6709\n",
      "Epoch 10/30\n",
      "\u001b[1m66/66\u001b[0m \u001b[32m━━━━━━━━━━━━━━━━━━━━\u001b[0m\u001b[37m\u001b[0m \u001b[1m140s\u001b[0m 2s/step - accuracy: 0.7200 - loss: 0.7750 - val_accuracy: 0.7886 - val_loss: 0.6364\n",
      "Epoch 11/30\n",
      "\u001b[1m66/66\u001b[0m \u001b[32m━━━━━━━━━━━━━━━━━━━━\u001b[0m\u001b[37m\u001b[0m \u001b[1m142s\u001b[0m 2s/step - accuracy: 0.7333 - loss: 0.7495 - val_accuracy: 0.8171 - val_loss: 0.6050\n",
      "Epoch 12/30\n",
      "\u001b[1m66/66\u001b[0m \u001b[32m━━━━━━━━━━━━━━━━━━━━\u001b[0m\u001b[37m\u001b[0m \u001b[1m141s\u001b[0m 2s/step - accuracy: 0.7723 - loss: 0.6663 - val_accuracy: 0.8429 - val_loss: 0.5302\n",
      "Epoch 13/30\n",
      "\u001b[1m66/66\u001b[0m \u001b[32m━━━━━━━━━━━━━━━━━━━━\u001b[0m\u001b[37m\u001b[0m \u001b[1m142s\u001b[0m 2s/step - accuracy: 0.7380 - loss: 0.7202 - val_accuracy: 0.8343 - val_loss: 0.5982\n",
      "Epoch 14/30\n",
      "\u001b[1m66/66\u001b[0m \u001b[32m━━━━━━━━━━━━━━━━━━━━\u001b[0m\u001b[37m\u001b[0m \u001b[1m140s\u001b[0m 2s/step - accuracy: 0.7633 - loss: 0.6333 - val_accuracy: 0.7800 - val_loss: 0.6489\n",
      "Epoch 15/30\n",
      "\u001b[1m66/66\u001b[0m \u001b[32m━━━━━━━━━━━━━━━━━━━━\u001b[0m\u001b[37m\u001b[0m \u001b[1m141s\u001b[0m 2s/step - accuracy: 0.7691 - loss: 0.6812 - val_accuracy: 0.8400 - val_loss: 0.5369\n",
      "Epoch 16/30\n",
      "\u001b[1m66/66\u001b[0m \u001b[32m━━━━━━━━━━━━━━━━━━━━\u001b[0m\u001b[37m\u001b[0m \u001b[1m141s\u001b[0m 2s/step - accuracy: 0.7581 - loss: 0.6692 - val_accuracy: 0.8486 - val_loss: 0.5201\n",
      "Epoch 17/30\n",
      "\u001b[1m66/66\u001b[0m \u001b[32m━━━━━━━━━━━━━━━━━━━━\u001b[0m\u001b[37m\u001b[0m \u001b[1m141s\u001b[0m 2s/step - accuracy: 0.8101 - loss: 0.6050 - val_accuracy: 0.8314 - val_loss: 0.5318\n",
      "Epoch 18/30\n",
      "\u001b[1m66/66\u001b[0m \u001b[32m━━━━━━━━━━━━━━━━━━━━\u001b[0m\u001b[37m\u001b[0m \u001b[1m141s\u001b[0m 2s/step - accuracy: 0.8013 - loss: 0.5881 - val_accuracy: 0.8343 - val_loss: 0.5437\n",
      "Epoch 19/30\n",
      "\u001b[1m66/66\u001b[0m \u001b[32m━━━━━━━━━━━━━━━━━━━━\u001b[0m\u001b[37m\u001b[0m \u001b[1m140s\u001b[0m 2s/step - accuracy: 0.7942 - loss: 0.5267 - val_accuracy: 0.8371 - val_loss: 0.5122\n",
      "Epoch 20/30\n",
      "\u001b[1m66/66\u001b[0m \u001b[32m━━━━━━━━━━━━━━━━━━━━\u001b[0m\u001b[37m\u001b[0m \u001b[1m141s\u001b[0m 2s/step - accuracy: 0.7959 - loss: 0.5854 - val_accuracy: 0.8657 - val_loss: 0.4757\n",
      "Epoch 21/30\n",
      "\u001b[1m66/66\u001b[0m \u001b[32m━━━━━━━━━━━━━━━━━━━━\u001b[0m\u001b[37m\u001b[0m \u001b[1m140s\u001b[0m 2s/step - accuracy: 0.8250 - loss: 0.4712 - val_accuracy: 0.8400 - val_loss: 0.5009\n",
      "Epoch 22/30\n",
      "\u001b[1m66/66\u001b[0m \u001b[32m━━━━━━━━━━━━━━━━━━━━\u001b[0m\u001b[37m\u001b[0m \u001b[1m140s\u001b[0m 2s/step - accuracy: 0.8128 - loss: 0.5721 - val_accuracy: 0.8543 - val_loss: 0.5325\n",
      "Epoch 23/30\n",
      "\u001b[1m66/66\u001b[0m \u001b[32m━━━━━━━━━━━━━━━━━━━━\u001b[0m\u001b[37m\u001b[0m \u001b[1m141s\u001b[0m 2s/step - accuracy: 0.8345 - loss: 0.5037 - val_accuracy: 0.8457 - val_loss: 0.4822\n",
      "Epoch 24/30\n",
      "\u001b[1m66/66\u001b[0m \u001b[32m━━━━━━━━━━━━━━━━━━━━\u001b[0m\u001b[37m\u001b[0m \u001b[1m140s\u001b[0m 2s/step - accuracy: 0.8061 - loss: 0.5067 - val_accuracy: 0.8743 - val_loss: 0.4506\n",
      "Epoch 25/30\n",
      "\u001b[1m66/66\u001b[0m \u001b[32m━━━━━━━━━━━━━━━━━━━━\u001b[0m\u001b[37m\u001b[0m \u001b[1m140s\u001b[0m 2s/step - accuracy: 0.8344 - loss: 0.4600 - val_accuracy: 0.8686 - val_loss: 0.4664\n",
      "Epoch 26/30\n",
      "\u001b[1m66/66\u001b[0m \u001b[32m━━━━━━━━━━━━━━━━━━━━\u001b[0m\u001b[37m\u001b[0m \u001b[1m140s\u001b[0m 2s/step - accuracy: 0.8419 - loss: 0.4798 - val_accuracy: 0.8629 - val_loss: 0.4412\n",
      "Epoch 27/30\n",
      "\u001b[1m66/66\u001b[0m \u001b[32m━━━━━━━━━━━━━━━━━━━━\u001b[0m\u001b[37m\u001b[0m \u001b[1m140s\u001b[0m 2s/step - accuracy: 0.8532 - loss: 0.4450 - val_accuracy: 0.8771 - val_loss: 0.4482\n",
      "Epoch 28/30\n",
      "\u001b[1m66/66\u001b[0m \u001b[32m━━━━━━━━━━━━━━━━━━━━\u001b[0m\u001b[37m\u001b[0m \u001b[1m139s\u001b[0m 2s/step - accuracy: 0.8497 - loss: 0.4247 - val_accuracy: 0.8714 - val_loss: 0.4512\n",
      "Epoch 29/30\n",
      "\u001b[1m66/66\u001b[0m \u001b[32m━━━━━━━━━━━━━━━━━━━━\u001b[0m\u001b[37m\u001b[0m \u001b[1m139s\u001b[0m 2s/step - accuracy: 0.8398 - loss: 0.4353 - val_accuracy: 0.8543 - val_loss: 0.4520\n",
      "Epoch 30/30\n",
      "\u001b[1m66/66\u001b[0m \u001b[32m━━━━━━━━━━━━━━━━━━━━\u001b[0m\u001b[37m\u001b[0m \u001b[1m140s\u001b[0m 2s/step - accuracy: 0.8672 - loss: 0.3932 - val_accuracy: 0.8457 - val_loss: 0.4774\n"
     ]
    }
   ],
   "source": [
    "from tensorflow.keras.layers import Dropout\n",
    "base_model = InceptionResNetV2(weights='imagenet', include_top=False, input_shape=(299, 299, 3))\n",
    "x = base_model.output\n",
    "x = GlobalAveragePooling2D()(x)\n",
    "x = Dense(128, activation='relu')(x)\n",
    "x = Dropout(0.4)(x)\n",
    "predictions = Dense(7, activation='softmax')(x)  \n",
    "\n",
    "model = Model(inputs=base_model.input, outputs=predictions)\n",
    "for layer in base_model.layers:\n",
    "    layer.trainable = False\n",
    "\n",
    "model.compile(optimizer='adam', loss='sparse_categorical_crossentropy', metrics=['accuracy'])\n",
    "history = model.fit(train_dataset, epochs=30, validation_data=validation_dataset)\n",
    "\n"
   ]
  },
  {
   "cell_type": "code",
   "execution_count": 32,
   "metadata": {},
   "outputs": [
    {
     "data": {
      "text/plain": [
       "[Text(0.5, 1.0, 'Training and Validation Loss Curve'),\n",
       " Text(0.5, 0, 'Epoch'),\n",
       " Text(0, 0.5, 'Loss')]"
      ]
     },
     "execution_count": 32,
     "metadata": {},
     "output_type": "execute_result"
    },
    {
     "data": {
      "image/png": "[encoded data removed]",
      "text/plain": [
       "<Figure size 640x480 with 1 Axes>"
      ]
     },
     "metadata": {},
     "output_type": "display_data"
    }
   ],
   "source": [
    "history_df = pd.DataFrame(history.history)\n",
    "sns.lineplot(data=history_df[['loss','val_loss']]).set(title=\"Training and Validation Loss Curve\", xlabel=\"Epoch\", ylabel=\"Loss\")"
   ]
  },
  {
   "cell_type": "code",
   "execution_count": 33,
   "metadata": {},
   "outputs": [
    {
     "name": "stdout",
     "output_type": "stream",
     "text": [
      "\u001b[1m66/66\u001b[0m \u001b[32m━━━━━━━━━━━━━━━━━━━━\u001b[0m\u001b[37m\u001b[0m \u001b[1m108s\u001b[0m 2s/step - accuracy: 0.9110 - loss: 0.2790\n",
      "\u001b[1m22/22\u001b[0m \u001b[32m━━━━━━━━━━━━━━━━━━━━\u001b[0m\u001b[37m\u001b[0m \u001b[1m35s\u001b[0m 2s/step - accuracy: 0.8289 - loss: 0.4949\n",
      "Training Loss: 0.26042819023132324, Training Accuracy: 0.9219047427177429\n",
      "Validation Loss: 0.47744131088256836, Validation Accuracy: 0.845714271068573\n"
     ]
    }
   ],
   "source": [
    "training_loss, training_accuracy = model.evaluate(train_dataset)\n",
    "validation_loss, validation_accuracy = model.evaluate(validation_dataset)\n",
    "\n",
    "\n",
    "print(f\"Training Loss: {training_loss}, Training Accuracy: {training_accuracy}\")\n",
    "print(f\"Validation Loss: {validation_loss}, Validation Accuracy: {validation_accuracy}\")"
   ]
  }
 ],
 "metadata": {
  "kernelspec": {
   "display_name": "myenv",
   "language": "python",
   "name": "python3"
  },
  "language_info": {
   "codemirror_mode": {
    "name": "ipython",
    "version": 3
   },
   "file_extension": ".py",
   "mimetype": "text/x-python",
   "name": "python",
   "nbconvert_exporter": "python",
   "pygments_lexer": "ipython3",
   "version": "3.12.8"
  }
 },
 "nbformat": 4,
 "nbformat_minor": 2
}
