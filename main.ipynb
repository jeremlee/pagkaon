{
 "cells": [
  {
   "cell_type": "code",
   "execution_count": 43,
   "metadata": {},
   "outputs": [],
   "source": [
    "from transformers import AutoImageProcessor, TFAutoModelForImageClassification\n",
    "import tensorflow as tf\n",
    "from PIL import Image\n",
    "import sklearn\n",
    "from datasets import load_dataset\n",
    "import numpy as np\n"
   ]
  },
  {
   "cell_type": "code",
   "execution_count": 44,
   "metadata": {},
   "outputs": [
    {
     "data": {
      "application/vnd.jupyter.widget-view+json": {
       "model_id": "4703b5d2d1a84911a94fe784e7ad8dcb",
       "version_major": 2,
       "version_minor": 0
      },
      "text/plain": [
       "Resolving data files:   0%|          | 0/1052 [00:00<?, ?it/s]"
      ]
     },
     "metadata": {},
     "output_type": "display_data"
    },
    {
     "data": {
      "application/vnd.jupyter.widget-view+json": {
       "model_id": "bdfb121eaa494da08e1583599f9ce7b6",
       "version_major": 2,
       "version_minor": 0
      },
      "text/plain": [
       "Resolving data files:   0%|          | 0/352 [00:00<?, ?it/s]"
      ]
     },
     "metadata": {},
     "output_type": "display_data"
    }
   ],
   "source": [
    "dataset = load_dataset(\"Kaludi/data-food-classification\")\n",
    "class_dict = {\n",
    "    0: 'apple_pie',\n",
    "    1: 'falafel',\n",
    "    2: 'french_toast',\n",
    "    3: 'ice_cream',\n",
    "    4: 'ramen',\n",
    "    5: 'sushi',\n",
    "    6: 'tiramisu'\n",
    "}\n"
   ]
  },
  {
   "cell_type": "code",
   "execution_count": 45,
   "metadata": {},
   "outputs": [
    {
     "name": "stderr",
     "output_type": "stream",
     "text": [
      "Some weights of the PyTorch model were not used when initializing the TF 2.0 model TFViTForImageClassification: ['pooler.dense.bias', 'pooler.dense.weight']\n",
      "- This IS expected if you are initializing TFViTForImageClassification from a PyTorch model trained on another task or with another architecture (e.g. initializing a TFBertForSequenceClassification model from a BertForPreTraining model).\n",
      "- This IS NOT expected if you are initializing TFViTForImageClassification from a PyTorch model that you expect to be exactly identical (e.g. initializing a TFBertForSequenceClassification model from a BertForSequenceClassification model).\n",
      "Some weights or buffers of the TF 2.0 model TFViTForImageClassification were not initialized from the PyTorch model and are newly initialized: ['classifier.weight', 'classifier.bias']\n",
      "You should probably TRAIN this model on a down-stream task to be able to use it for predictions and inference.\n"
     ]
    }
   ],
   "source": [
    "model_name = \"google/vit-base-patch16-224-in21k\"\n",
    "processor = AutoImageProcessor.from_pretrained(model_name)\n",
    "model = TFAutoModelForImageClassification.from_pretrained(\"google/vit-base-patch16-224-in21k\", num_labels=7)\n",
    "model.trainable = False"
   ]
  },
  {
   "cell_type": "code",
   "execution_count": 46,
   "metadata": {},
   "outputs": [
    {
     "data": {
      "text/plain": [
       "'\\ncount = 0\\nfor i in range(0,100):\\n    actual = dataset[\\'validation\\'][i][\\'label\\']\\n    input = processor(images=dataset[\\'validation\\'][i][\\'image\\'], return_tensors=\"tf\")\\n    outputs = model(**input)\\n    logits = outputs.logits\\n    probs = tf.nn.softmax(logits, axis=-1)  \\n    pred_class = np.argmax(probs)  \\n    result = class_dict.get(pred_class, \"Unknown\")  \\n    print(\"Row %d: || Result: %s || Expected: %s\" % (i, result, class_dict[actual]))\\n    if result == class_dict[actual]:\\n        count+=1\\nprint(float(count/100)) \\n#btw this has 8 percent accuracy with the base model\\n'"
      ]
     },
     "execution_count": 46,
     "metadata": {},
     "output_type": "execute_result"
    }
   ],
   "source": [
    "\"\"\"\n",
    "count = 0\n",
    "for i in range(0,100):\n",
    "    actual = dataset['validation'][i]['label']\n",
    "    input = processor(images=dataset['validation'][i]['image'], return_tensors=\"tf\")\n",
    "    outputs = model(**input)\n",
    "    logits = outputs.logits\n",
    "    probs = tf.nn.softmax(logits, axis=-1)  \n",
    "    pred_class = np.argmax(probs)  \n",
    "    result = class_dict.get(pred_class, \"Unknown\")  \n",
    "    print(\"Row %d: || Result: %s || Expected: %s\" % (i, result, class_dict[actual]))\n",
    "    if result == class_dict[actual]:\n",
    "        count+=1\n",
    "print(float(count/100)) \n",
    "#btw this has 8 percent accuracy with the base model\n",
    "\"\"\""
   ]
  }
 ],
 "metadata": {
  "kernelspec": {
   "display_name": "myenv",
   "language": "python",
   "name": "python3"
  },
  "language_info": {
   "codemirror_mode": {
    "name": "ipython",
    "version": 3
   },
   "file_extension": ".py",
   "mimetype": "text/x-python",
   "name": "python",
   "nbconvert_exporter": "python",
   "pygments_lexer": "ipython3",
   "version": "3.12.8"
  }
 },
 "nbformat": 4,
 "nbformat_minor": 2
}
